{
 "cells": [
  {
   "cell_type": "code",
<<<<<<< HEAD
   "execution_count": 1,
=======
   "execution_count": 44,
>>>>>>> b211815adcb74d920011095987af06dd90ebdbe0
   "metadata": {},
   "outputs": [],
   "source": [
    "import pandas as pd\n",
    "import numpy as np\n",
    "from sklearn.neighbors import NearestNeighbors\n",
    "from sklearn.metrics import precision_recall_fscore_support\n",
    "import random\n",
<<<<<<< HEAD
    "import seaborn as sns\n",
=======
>>>>>>> b211815adcb74d920011095987af06dd90ebdbe0
    "import matplotlib.pyplot as plt\n",
    "import itertools"
   ]
  },
  {
   "cell_type": "markdown",
   "metadata": {
    "jp-MarkdownHeadingCollapsed": true,
    "tags": []
   },
   "source": [
    "# k-nearest neighbors\n",
    "\n",
    "This dataset was obtained from https://archive.ics.uci.edu/ml/datasets/Heart+Disease (this is a great resource for datasets to try machine learning on). It has data on patients that are and are not diagnosed with heart disease.\n",
    "\n",
    "The attributes are:\n",
    "* age: age in years \n",
    "* sex: sex (1 = male; 0 = female) \n",
    "* cp: chest pain type \n",
    " * -- Value 1: typical angina \n",
    " * -- Value 2: atypical angina \n",
    " * -- Value 3: non-anginal pain \n",
    " * -- Value 4: asymptomatic \n",
    "* trestbps: resting blood pressure (in mm Hg on admission to the hospital) \n",
    "* chol: serum cholestoral in mg/dl \n",
    "* fbs: (fasting blood sugar > 120 mg/dl) (1 = true; 0 = false) \n",
    "* restecg: resting electrocardiographic results \n",
    " * -- Value 0: normal \n",
    " * -- Value 1: having ST-T wave abnormality (T wave inversions and/or ST elevation or depression of > 0.05 mV) \n",
    " * -- Value 2: showing probable or definite left ventricular hypertrophy by Estes' criteria \n",
    "* thalach: maximum heart rate achieved \n",
    "* exang: exercise induced angina (1 = yes; 0 = no) \n",
    "* oldpeak = ST depression induced by exercise relative to rest \n",
    "* slope: the slope of the peak exercise ST segment \n",
    " * -- Value 1: upsloping \n",
    " * -- Value 2: flat \n",
    " * -- Value 3: downsloping \n",
    "* ca: number of major vessels (0-3) colored by flourosopy \n",
    "* thal: 3 = normal; 6 = fixed defect; 7 = reversable defect \n",
    "* num: diagnosis of heart disease (angiographic disease status) \n",
    " * -- Value 0: absence.\n",
    " * -- Value 1,2,3,4: presence of heart disease\n"
   ]
  },
  {
   "cell_type": "markdown",
   "metadata": {},
   "source": [
    "# Explore the data\n",
    "\n",
    "Read in the data, modify the dependent variable name and plot a histogram of the ages of patients, both healthy and those with heart disease."
   ]
  },
  {
   "cell_type": "code",
<<<<<<< HEAD
   "execution_count": 2,
=======
   "execution_count": 45,
>>>>>>> b211815adcb74d920011095987af06dd90ebdbe0
   "metadata": {},
   "outputs": [
    {
     "data": {
      "text/html": [
       "<div>\n",
       "<style scoped>\n",
       "    .dataframe tbody tr th:only-of-type {\n",
       "        vertical-align: middle;\n",
       "    }\n",
       "\n",
       "    .dataframe tbody tr th {\n",
       "        vertical-align: top;\n",
       "    }\n",
       "\n",
       "    .dataframe thead th {\n",
       "        text-align: right;\n",
       "    }\n",
       "</style>\n",
       "<table border=\"1\" class=\"dataframe\">\n",
       "  <thead>\n",
       "    <tr style=\"text-align: right;\">\n",
       "      <th></th>\n",
       "      <th>age</th>\n",
       "      <th>sex</th>\n",
       "      <th>cp</th>\n",
       "      <th>trestbps</th>\n",
       "      <th>chol</th>\n",
       "      <th>fbs</th>\n",
       "      <th>restecg</th>\n",
       "      <th>thalach</th>\n",
       "      <th>exang</th>\n",
       "      <th>oldpeak</th>\n",
       "      <th>slope</th>\n",
       "      <th>ca</th>\n",
       "      <th>thal</th>\n",
       "      <th>disease</th>\n",
       "    </tr>\n",
       "  </thead>\n",
       "  <tbody>\n",
       "    <tr>\n",
       "      <th>0</th>\n",
       "      <td>63.0</td>\n",
       "      <td>1.0</td>\n",
       "      <td>1.0</td>\n",
       "      <td>145.0</td>\n",
       "      <td>233.0</td>\n",
       "      <td>1.0</td>\n",
       "      <td>2.0</td>\n",
       "      <td>150.0</td>\n",
       "      <td>0.0</td>\n",
       "      <td>2.3</td>\n",
       "      <td>3.0</td>\n",
       "      <td>0.0</td>\n",
       "      <td>6.0</td>\n",
       "      <td>0</td>\n",
       "    </tr>\n",
       "    <tr>\n",
       "      <th>1</th>\n",
       "      <td>67.0</td>\n",
       "      <td>1.0</td>\n",
       "      <td>4.0</td>\n",
       "      <td>160.0</td>\n",
       "      <td>286.0</td>\n",
       "      <td>0.0</td>\n",
       "      <td>2.0</td>\n",
       "      <td>108.0</td>\n",
       "      <td>1.0</td>\n",
       "      <td>1.5</td>\n",
       "      <td>2.0</td>\n",
       "      <td>3.0</td>\n",
       "      <td>3.0</td>\n",
       "      <td>1</td>\n",
       "    </tr>\n",
       "    <tr>\n",
       "      <th>2</th>\n",
       "      <td>67.0</td>\n",
       "      <td>1.0</td>\n",
       "      <td>4.0</td>\n",
       "      <td>120.0</td>\n",
       "      <td>229.0</td>\n",
       "      <td>0.0</td>\n",
       "      <td>2.0</td>\n",
       "      <td>129.0</td>\n",
       "      <td>1.0</td>\n",
       "      <td>2.6</td>\n",
       "      <td>2.0</td>\n",
       "      <td>2.0</td>\n",
       "      <td>7.0</td>\n",
       "      <td>1</td>\n",
       "    </tr>\n",
       "    <tr>\n",
       "      <th>3</th>\n",
       "      <td>37.0</td>\n",
       "      <td>1.0</td>\n",
       "      <td>3.0</td>\n",
       "      <td>130.0</td>\n",
       "      <td>250.0</td>\n",
       "      <td>0.0</td>\n",
       "      <td>0.0</td>\n",
       "      <td>187.0</td>\n",
       "      <td>0.0</td>\n",
       "      <td>3.5</td>\n",
       "      <td>3.0</td>\n",
       "      <td>0.0</td>\n",
       "      <td>3.0</td>\n",
       "      <td>0</td>\n",
       "    </tr>\n",
       "    <tr>\n",
       "      <th>4</th>\n",
       "      <td>41.0</td>\n",
       "      <td>0.0</td>\n",
       "      <td>2.0</td>\n",
       "      <td>130.0</td>\n",
       "      <td>204.0</td>\n",
       "      <td>0.0</td>\n",
       "      <td>2.0</td>\n",
       "      <td>172.0</td>\n",
       "      <td>0.0</td>\n",
       "      <td>1.4</td>\n",
       "      <td>1.0</td>\n",
       "      <td>0.0</td>\n",
       "      <td>3.0</td>\n",
       "      <td>0</td>\n",
       "    </tr>\n",
       "  </tbody>\n",
       "</table>\n",
       "</div>"
      ],
      "text/plain": [
       "    age  sex   cp  trestbps   chol  fbs  restecg  thalach  exang  oldpeak  \\\n",
       "0  63.0  1.0  1.0     145.0  233.0  1.0      2.0    150.0    0.0      2.3   \n",
       "1  67.0  1.0  4.0     160.0  286.0  0.0      2.0    108.0    1.0      1.5   \n",
       "2  67.0  1.0  4.0     120.0  229.0  0.0      2.0    129.0    1.0      2.6   \n",
       "3  37.0  1.0  3.0     130.0  250.0  0.0      0.0    187.0    0.0      3.5   \n",
       "4  41.0  0.0  2.0     130.0  204.0  0.0      2.0    172.0    0.0      1.4   \n",
       "\n",
       "   slope   ca thal  disease  \n",
       "0    3.0  0.0  6.0        0  \n",
       "1    2.0  3.0  3.0        1  \n",
       "2    2.0  2.0  7.0        1  \n",
       "3    3.0  0.0  3.0        0  \n",
       "4    1.0  0.0  3.0        0  "
      ]
     },
     "metadata": {},
     "output_type": "display_data"
    }
   ],
   "source": [
    "df = pd.read_csv('cleveland.csv')\n",
    "\n",
    "# Collapse all values 1-4 into a single value so that \"num\" is boolean\n",
    "df = df.rename({'num':'disease'}, axis=1)\n",
    "df['disease'] = df.disease.apply(lambda x: min(x, 1))\n",
    "df.drop(df[df['thal'] == '?'].index, inplace=True)\n",
    "display(df.head(5))"
   ]
  },
  {
   "cell_type": "markdown",
   "metadata": {},
   "source": [
    "# multiple dimensions\n"
   ]
  },
  {
   "cell_type": "code",
<<<<<<< HEAD
   "execution_count": 3,
=======
   "execution_count": 46,
>>>>>>> b211815adcb74d920011095987af06dd90ebdbe0
   "metadata": {},
   "outputs": [],
   "source": [
    "def knnPredict(data, attributes, numOfNeighbors, target='disease'):\n",
<<<<<<< HEAD
    "    #Convert Bools to Binary if needed\n",
    "    data[target] = data[target].astype(int)\n",
=======
>>>>>>> b211815adcb74d920011095987af06dd90ebdbe0
    "    nn = NearestNeighbors(n_neighbors=numOfNeighbors, metric='euclidean', algorithm='auto')\n",
    "    \n",
    "    # Standardize\n",
    "    newAttributes = []\n",
    "    for attribute in attributes:\n",
    "        standard = data[attribute]-data[attribute].mean()/data[attribute].std()\n",
    "        standard.name = standard.name+'_s'\n",
    "        newAttributes.append(standard.name)\n",
    "        data = pd.concat([data,standard],axis=1)\n",
    "        \n",
    "    # Build underlying structure with standardized data   \n",
    "    X = data[newAttributes].values\n",
    "    y = data[target].values\n",
    "    fit = nn.fit(X)\n",
    "    \n",
    "    # Choose a random patient\n",
    "    i = random.randint(0,len(X)-1)\n",
    "    patientX = X[i]\n",
    "    patienty = y[i]\n",
    "    # display('Our patient',data.iloc[i])\n",
    "    \n",
    "    # Find the k nearest neighbors, not including self\n",
    "    distances, indices = fit.kneighbors([patientX],numOfNeighbors+1)\n",
    "    nbrs = data.iloc[indices[0]]\n",
    "    # Delete self from data\n",
    "    nbrs = nbrs.drop(data.iloc[i].name)\n",
    "    # display(nbrs)\n",
    "    \n",
    "    # Count the number of neighbors that have target\n",
    "    have = nbrs[nbrs[target] == 0].count()[target]\n",
    "    # Count the number of neighbors that DON'T have target\n",
    "    dontHave = nbrs[nbrs[target] == 1].count()[target]\n",
    "    # print('Have: {}\\ndontHave: {}'.format(have, dontHave))\n",
    "    \n",
    "    # Predict that our random patient is like the majority of its neighbors\n",
    "    predict = 0 if (dontHave > have) else 1\n",
    "    # According to the records, did our patient have the target\n",
    "    actual = 0 if (patienty == 0) else 1\n",
    "    success = predict == actual\n",
    "    # print('Sucess:',success)\n",
    "    return success, patienty == 0"
   ]
  },
  {
   "cell_type": "code",
<<<<<<< HEAD
   "execution_count": 4,
=======
   "execution_count": 47,
>>>>>>> b211815adcb74d920011095987af06dd90ebdbe0
   "metadata": {},
   "outputs": [],
   "source": [
    "def runXTests(data, attributes, numOfNeighbors, numOfTests=1, target='disease'):\n",
    "    y_pred = []\n",
    "    y_true = []\n",
    "    for test in range(numOfTests):\n",
<<<<<<< HEAD
    "        yPred, yAct = knnPredict(data, attributes, numOfNeighbors,target = target)\n",
=======
    "        yPred, yAct = knnPredict(data, attributes, numOfNeighbors)\n",
>>>>>>> b211815adcb74d920011095987af06dd90ebdbe0
    "        y_pred.append(yPred)\n",
    "        y_true.append(yAct)\n",
    "    return y_pred, y_true"
   ]
  },
  {
   "cell_type": "code",
<<<<<<< HEAD
   "execution_count": 5,
=======
   "execution_count": 48,
>>>>>>> b211815adcb74d920011095987af06dd90ebdbe0
   "metadata": {},
   "outputs": [
    {
     "name": "stdout",
     "output_type": "stream",
     "text": [
<<<<<<< HEAD
      "[0.5 0. ] [0.25 0.  ] [0.33333333 0.        ] [4 1] \n",
      "\n",
      "[1.   0.25] [0.25 1.  ] [0.4 0.4] [4 1] \n",
      "\n",
      "[0.  0.5] [0.         0.66666667] [0.         0.57142857] [2 3] \n",
      "\n",
      "[0.5        0.33333333] [0.33333333 0.5       ] [0.4 0.4] [3 2] \n",
      "\n",
      "[0.5        0.66666667] [0.5        0.66666667] [0.5        0.66666667] [2 3] \n",
      "\n",
      "[0.5 0. ] [0.25 0.  ] [0.33333333 0.        ] [4 1] \n",
      "\n",
      "[0.33333333 0.        ] [0.33333333 0.        ] [0.33333333 0.        ] [3 2] \n",
      "\n",
      "[0.33333333 0.5       ] [0.5        0.33333333] [0.4 0.4] [2 3] \n",
      "\n",
      "[1. 0.] [0.8 0. ] [0.88888889 0.        ] [5 0] \n",
=======
      "[1. 0.] [0.6 0. ] [0.75 0.  ] [5 0] \n",
      "\n",
      "[0.  0.6] [0. 1.] [0.   0.75] [2 3] \n",
      "\n",
      "[1. 0.] [0.6 0. ] [0.75 0.  ] [5 0] \n",
      "\n",
      "[0.66666667 0.5       ] [0.66666667 0.5       ] [0.66666667 0.5       ] [3 2] \n",
      "\n",
      "[0.5        0.33333333] [0.33333333 0.5       ] [0.4 0.4] [3 2] \n",
      "\n",
      "[0.33333333 0.        ] [0.33333333 0.        ] [0.33333333 0.        ] [3 2] \n",
      "\n",
      "[0.25 0.  ] [0.5 0. ] [0.33333333 0.        ] [2 3] \n",
      "\n",
      "[0.75 0.  ] [0.75 0.  ] [0.75 0.  ] [4 1] \n",
      "\n",
      "[0.5 0. ] [0.66666667 0.        ] [0.57142857 0.        ] [3 2] \n",
>>>>>>> b211815adcb74d920011095987af06dd90ebdbe0
      "\n"
     ]
    }
   ],
   "source": [
    "def crossValidate(data, attributes, numOfNeighbors, numOfTests, target='disease', level = 10):\n",
    "    folds = []\n",
    "    for i in range(level):\n",
    "        folds.append(data.sample(frac = 1/level))\n",
    "    \n",
    "    # Train missing one fold\n",
    "    for i in range(level-1):\n",
    "        temp = pd.concat([data,folds[i]])\n",
    "        temp = temp.drop_duplicates(keep=False)\n",
    "        \n",
<<<<<<< HEAD
    "        y_pred,y_true = runXTests(temp, attributes, numOfNeighbors, numOfTests, target=target)\n",
=======
    "        y_pred,y_true = testMeSenpai(temp, attributes, numOfNeighbors, numOfTests, target='disease')\n",
>>>>>>> b211815adcb74d920011095987af06dd90ebdbe0
    "        (p,r,f,s) = precision_recall_fscore_support(y_pred,y_true,zero_division=0)\n",
    "        print(p,r,f,s,'\\n')\n",
    "        \n",
    "df1 = df.copy()\n",
    "k = 5\n",
    "numOfTests = 5\n",
    "attributes = ['age','trestbps']\n",
    "\n",
    "crossValidate(df1,attributes,k,numOfTests)\n",
    "# y_pred, y_true = testMeSenpai(df1,attributes,k,numOfTests)\n",
    "# (p,r,f,s) = precision_recall_fscore_support(y_pred,y_true)\n",
    "# display(p,r,f,s)"
   ]
  },
  {
   "cell_type": "code",
<<<<<<< HEAD
   "execution_count": 6,
=======
   "execution_count": 49,
>>>>>>> b211815adcb74d920011095987af06dd90ebdbe0
   "metadata": {},
   "outputs": [],
   "source": [
    "def testAgainstTest(testData,attributes,k):\n",
    "    y_pred, y_true = runXTests(testData,attributes,k)\n",
    "    (p,r,f,s) = precision_recall_fscore_support(y_pred,y_true)\n",
    "    return p,r,f,s"
   ]
  },
  {
   "cell_type": "markdown",
   "metadata": {},
   "source": [
    "# The model is the value of k (nearest neigbors) and set of attributes"
   ]
  },
  {
   "cell_type": "markdown",
   "metadata": {},
   "source": [
    "## Chosen Features"
   ]
  },
  {
   "cell_type": "code",
   "execution_count": 7,
   "metadata": {},
   "outputs": [],
   "source": [
    "chosen_features = ['cp', 'trestbps', 'chol', 'restecg', 'thalach', 'exang', 'thal', 'age']\n",
    "numFeatures = 5\n",
    "attributes = ['age','trestbps','chol', 'thalach']\n",
    "# standardizing noncatagorical data\n",
    "newAttributes = []\n",
    "data1 = df.copy()\n",
    "for attribute in attributes:\n",
    "    standard = (data1[attribute]-data1[attribute].mean())/data1[attribute].std()\n",
    "    chosen_features.remove(standard.name)\n",
    "    chosen_features.append(standard.name+'_s')\n",
    "    standard.name = standard.name+'_s'\n",
    "    newAttributes.append(standard.name)\n",
    "    data1 = pd.concat([data1,standard],axis=1)\n",
    "    data1.drop(attribute,axis=1,inplace=True)\n",
    "featureslist = list(itertools.combinations(chosen_features,numFeatures)) #\n",
    "featureslist = [list(x) for x in featureslist]\n",
    "data1['thal'] = data1['thal'].str.replace('.0','',regex=True)\n",
    "# data 1 is processed"
   ]
  },
  {
   "cell_type": "markdown",
   "metadata": {},
   "source": [
    "## Monte Carlo data split with selected features"
   ]
  },
  {
   "cell_type": "code",
   "execution_count": 8,
   "metadata": {},
   "outputs": [],
   "source": [
    "# make random split for one monte carlo cross validation run\n",
    "def monteCarloCVSplit(data : pd.DataFrame , level = 10):\n",
    "    CVtest = data.sample(frac = 1/level)\n",
    "    CVtrain = data.drop(CVtest.index)\n",
    "    return CVtrain, CVtest"
   ]
  },
  {
   "cell_type": "markdown",
   "metadata": {},
   "source": [
    "run knn on given attributes and cv split"
   ]
  },
  {
   "cell_type": "code",
   "execution_count": 9,
   "metadata": {},
   "outputs": [],
   "source": [
    "def knnPredictions(CVtrain, CVTest, attributes, k, target='disease'):\n",
    "    nn = NearestNeighbors(n_neighbors=k , metric='euclidean', algorithm='auto')\n",
    "    \n",
    "    # Build underlying structure with standardized data   \n",
    "    X = CVtrain[attributes].values\n",
    "    y = CVtrain[target].values\n",
    "    \n",
    "    testX = CVTest[attributes].values\n",
    "    testy = CVTest[target].values\n",
    "    fit = nn.fit(X) # fits training data to model\n",
    "    \n",
    "    # nbrs = neighbors\n",
    "    #this fit finds the nearest neigbors from the training set to the test set \n",
    "    distances, nbrs = fit.kneighbors(testX, n_neighbors = k) \n",
    "    \n",
    "    # Count the number of neighbors that have target\n",
    "\n",
    "    diseasdedNbrCount = []\n",
    "    for nbrList in nbrs:\n",
    "        diseasdedNbrCount.append([1 if y[nbr] == 1 else 0 for nbr in nbrList])\n",
    "    \n",
    "    predictions = []\n",
    "    for l in diseasdedNbrCount:\n",
    "        numOfDiseased = sum(l)\n",
    "        if numOfDiseased > k/2:\n",
    "            predictions.append(1)\n",
    "        else:\n",
    "            predictions.append(0)\n",
    "    # print(predictions,'\\n',diseasdedNbrCount)\n",
    "    return predictions , testy\n",
    "    "
   ]
  },
  {
   "cell_type": "code",
   "execution_count": 16,
   "metadata": {},
   "outputs": [
    {
     "name": "stdout",
     "output_type": "stream",
     "text": [
      "0.8181818181818182 0.8181818181818182 0.4090909090909091\n"
     ]
    }
   ],
   "source": [
    "CVtrain1, CVtest1 = monteCarloCVSplit(data1)\n",
    "# CVtrain1\n",
    "preds, actuals = knnPredictions(CVtrain1, CVtest1, featureslist[0] , 5)\n",
    "\n",
    "(p,r,f,s) = precision_recall_fscore_support(preds,actuals,zero_division=0,average='binary')\n",
    "f1 = (p*r)/(p + r)\n",
    "print(p,r,f1)"
   ]
  },
  {
   "cell_type": "markdown",
   "metadata": {},
   "source": [
    "## The second data set"
   ]
  },
  {
   "cell_type": "code",
   "execution_count": 11,
   "metadata": {},
   "outputs": [],
   "source": [
    "# traffic = pd.read_csv('traffic-Brazil.csv',sep=';')\n",
    "# traffic = traffic.rename(columns={'Slowness in traffic (%)':'slowness'})\n",
    "# traffic['slowness'] = traffic['slowness'].str.replace(',','.').astype(float)\n",
    "# trafficMean = traffic['slowness'].mean()\n",
    "# traffic['highTraffic'] = traffic['slowness'] > trafficMean\n",
    "\n",
    "# attributes = ['Immobilized bus', 'Broken Truck','Vehicle excess','Accident victim']\n",
    "# k = 6\n",
    "# target = \n",
    "\n",
    "power = pd.read_csv('city_power_consumption.csv')\n",
    "power = power.rename(columns={'Zone 1 Power Consumption':'Zone_1_Power'})\n",
    "powerMean = power['Zone_1_Power'].mean()\n",
    "power['highPowerUse'] = power.Zone_1_Power>powerMean\n",
    "# power.plot(power['Temperature'])\n",
    "# sns.lineplot(data = power, x = 'Temperature')\n",
    "\n",
    "\n",
    "attributes = ['Temperature','Humidity','Wind Speed','Zone 2  Power Consumption']\n",
    "k = 50\n",
    "target = 'highPowerUse'\n",
    "# display(power)\n",
    "# display(renameMe(power,attributes,k,target = target))\n",
    "# display(testMeSenpai(power,attributes,k,numOfTests = 10,target = target))\n",
    "# crossValidate(power,attributes,k,numOfTests,target=target)"
   ]
  },
  {
   "cell_type": "code",
   "execution_count": 12,
   "metadata": {},
   "outputs": [
    {
     "data": {
      "text/plain": [
       "<AxesSubplot:xlabel='Temperature', ylabel='Zone_1_Power'>"
      ]
     },
     "execution_count": 12,
     "metadata": {},
     "output_type": "execute_result"
    },
    {
     "data": {
      "image/png": "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\n",
      "text/plain": [
       "<Figure size 640x480 with 1 Axes>"
      ]
     },
     "metadata": {},
     "output_type": "display_data"
    }
   ],
   "source": [
    "sns.scatterplot(data = power.sample(frac=.01), x = 'Temperature', y = 'Zone_1_Power')"
   ]
  },
  {
   "cell_type": "code",
   "execution_count": 13,
   "metadata": {},
   "outputs": [
    {
     "data": {
      "text/plain": [
       "<AxesSubplot:xlabel='Humidity', ylabel='Zone_1_Power'>"
      ]
     },
     "execution_count": 13,
     "metadata": {},
     "output_type": "execute_result"
    },
    {
     "data": {
      "image/png": "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\n",
      "text/plain": [
       "<Figure size 640x480 with 1 Axes>"
      ]
     },
     "metadata": {},
     "output_type": "display_data"
    }
   ],
   "source": [
    "sns.scatterplot(data = power.sample(frac=.01), x = 'Humidity', y = 'Zone_1_Power')"
   ]
  },
  {
   "cell_type": "code",
   "execution_count": 14,
   "metadata": {},
   "outputs": [],
   "source": [
    "# sns.catplot(data = power, x = 'DateTime', y='Temperature')"
   ]
  },
  {
   "cell_type": "markdown",
   "metadata": {},
   "source": [
    "## The challenge"
   ]
  },
  {
   "cell_type": "code",
<<<<<<< HEAD
   "execution_count": 15,
=======
   "execution_count": 50,
>>>>>>> b211815adcb74d920011095987af06dd90ebdbe0
   "metadata": {},
   "outputs": [],
   "source": [
    "# Day of the challenge set, all we need to do is change this file name and run it\n",
    "new_df = pd.read_csv('cleveland-test-sample.csv')\n",
    "\n",
    "# Collapse all values 1-4 into a single value so that \"num\" is boolean\n",
    "new_df = new_df.rename({'num':'disease','Unnamed: 0':'id'}, axis=1)\n",
    "new_df['disease'] = new_df.disease.apply(lambda x: min(x, 1))\n",
    "\n",
    "# Build a bigger data set to \n",
    "temp = pd.concat([df,new_df]).reset_index()\n"
   ]
  },
  {
   "attachments": {},
   "cell_type": "markdown",
   "metadata": {},
   "source": [
    "## chosen features"
   ]
  },
  {
   "cell_type": "code",
   "execution_count": 51,
   "metadata": {},
   "outputs": [],
   "source": [
    "\n",
    "\n",
    "chosen_features = ['cp', 'trestbps', 'chol', 'restecg', 'thalach', 'exang', 'thal', 'age']\n",
    "numFeatures = 5\n",
    "attributes = ['age','trestbps','chol', 'thalach']\n",
    "# standardizing noncatagorical data\n",
    "newAttributes = []\n",
    "data1 = df.copy()\n",
    "for attribute in attributes:\n",
    "    standard = (data1[attribute]-data1[attribute].mean())/data1[attribute].std()\n",
    "    chosen_features.remove(standard.name)\n",
    "    chosen_features.append(standard.name+'_s')\n",
    "    standard.name = standard.name+'_s'\n",
    "    newAttributes.append(standard.name)\n",
    "    data1 = pd.concat([data1,standard],axis=1)\n",
    "    data1.drop(attribute,axis=1,inplace=True)\n",
    "featureslist = list(itertools.combinations(chosen_features,numFeatures)) #\n",
    "featureslist = [list(x) for x in featureslist]\n",
    "data1['thal'] = data1['thal'].str.replace('.0','',regex=True)\n",
    "# data 1 is processed"
   ]
  },
  {
   "attachments": {},
   "cell_type": "markdown",
   "metadata": {},
   "source": [
    "## monte carlo data split with selected features"
   ]
  },
  {
   "cell_type": "code",
   "execution_count": 52,
   "metadata": {},
   "outputs": [],
   "source": [
    "# make random split for one monte carlo cross validation run\n",
    "def monteCarloCVSplit(data : pd.DataFrame , level = 10):\n",
    "    CVtest = data.sample(frac = 1/level)\n",
    "    CVtrain = data.drop(CVtest.index)\n",
    "    return CVtrain, CVtest"
   ]
  },
  {
   "attachments": {},
   "cell_type": "markdown",
   "metadata": {},
   "source": [
    "run knn on given attributes and CV split"
   ]
  },
  {
   "cell_type": "code",
   "execution_count": 208,
   "metadata": {},
   "outputs": [],
   "source": [
    "def knnPredictions(CVtrain, CVTest, attributes, k, target='disease'):\n",
    "    nn = NearestNeighbors(n_neighbors=k , metric='euclidean', algorithm='auto')\n",
    "    \n",
    "    # Build underlying structure with standardized data   \n",
    "    X = CVtrain[attributes].values\n",
    "    y = CVtrain[target].values\n",
    "    \n",
    "    testX = CVTest[attributes].values\n",
    "    testy = CVTest[target].values\n",
    "    fit = nn.fit(X) # fits training data to model\n",
    "    \n",
    "    # nbrs = neighbors\n",
    "    #this fit finds the nearest neigbors from the training set to the test set \n",
    "    distances, nbrs = fit.kneighbors(testX, n_neighbors = k) \n",
    "    \n",
    "    # Count the number of neighbors that have target\n",
    "\n",
    "    diseasdedNbrCount = []\n",
    "    for nbrList in nbrs:\n",
    "        diseasdedNbrCount.append([1 if y[nbr] == 1 else 0 for nbr in nbrList])\n",
    "    \n",
    "    predictions = []\n",
    "    for l in diseasdedNbrCount:\n",
    "        numOfDiseased = sum(l)\n",
    "        if numOfDiseased > k/2:\n",
    "            predictions.append(1)\n",
    "        else:\n",
    "            predictions.append(0)\n",
    "    # print(predictions,'\\n',diseasdedNbrCount)\n",
    "    return predictions , testy\n",
    "    "
   ]
  },
  {
   "cell_type": "code",
   "execution_count": 222,
   "metadata": {},
   "outputs": [
    {
     "name": "stdout",
     "output_type": "stream",
     "text": [
      "0.8666666666666667 0.7222222222222222 0.39393939393939387\n"
     ]
    }
   ],
   "source": [
    "CVtrain1, CVtest1 = monteCarloCVSplit(data1)\n",
    "# CVtrain1\n",
    "preds, actuals = knnPredictions(CVtrain1, CVtest1, featureslist[0] , 5)\n",
    "\n",
    "(p,r,f,s) = precision_recall_fscore_support(preds,actuals,zero_division=0,average='binary')\n",
    "f1 = (p*r)/(p + r)\n",
    "print(p,r,f1)"
   ]
  }
 ],
 "metadata": {
  "kernelspec": {
   "display_name": "Python 3",
   "language": "python",
   "name": "python3"
  },
  "language_info": {
   "codemirror_mode": {
    "name": "ipython",
    "version": 3
   },
   "file_extension": ".py",
   "mimetype": "text/x-python",
   "name": "python",
   "nbconvert_exporter": "python",
   "pygments_lexer": "ipython3",
   "version": "3.10.10"
  },
  "vscode": {
   "interpreter": {
    "hash": "8112dd241fa2daf28d9e3e7428f74cc036918cdd417492de7d9a77b623e05e74"
   }
  }
 },
 "nbformat": 4,
 "nbformat_minor": 4
}
